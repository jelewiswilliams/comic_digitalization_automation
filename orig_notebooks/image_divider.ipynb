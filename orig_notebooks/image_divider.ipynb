{
 "cells": [
  {
   "cell_type": "code",
   "execution_count": null,
   "metadata": {},
   "outputs": [],
   "source": [
    "import os\n",
    "from PIL import Image"
   ]
  },
  {
   "cell_type": "markdown",
   "metadata": {},
   "source": [
    "## Main code"
   ]
  },
  {
   "cell_type": "code",
   "execution_count": 2,
   "metadata": {},
   "outputs": [],
   "source": [
    "def split_image_vertically(image_path, output_folder):\n",
    "    # open the image\n",
    "    with Image.open(image_path) as img:\n",
    "        # calculate dimensions of landscape image divided in half vertically\n",
    "        width, height = img.size\n",
    "        half_width = width // 2\n",
    "\n",
    "        print(half_width)\n",
    "        \n",
    "        # get boxes for cropping each half\n",
    "        # 2548x3300\n",
    "        left_half_box = (0, 0, half_width, height)\n",
    "        right_half_box = (half_width, 0, width, height)\n",
    "        \n",
    "        # crop left and right halves\n",
    "        left_half = img.crop(left_half_box)\n",
    "        right_half = img.crop(right_half_box)\n",
    "        \n",
    "        # set up filenames for each half\n",
    "        base_filename = os.path.basename(image_path)\n",
    "        name, ext = os.path.splitext(base_filename)\n",
    "        left_half_filename = os.path.join(output_folder, f\"{name}_left{ext}\")\n",
    "        right_half_filename = os.path.join(output_folder, f\"{name}_right{ext}\")\n",
    "        \n",
    "        # save the new images\n",
    "        left_half.save(left_half_filename)\n",
    "        right_half.save(right_half_filename)"
   ]
  },
  {
   "cell_type": "code",
   "execution_count": null,
   "metadata": {},
   "outputs": [],
   "source": [
    "def process_images_in_folder(folder_path, output_folder):\n",
    "    # create output folder\n",
    "    os.makedirs(output_folder, exist_ok=True)\n",
    "    \n",
    "    # list of all files in the folder\n",
    "    for filename in os.listdir(folder_path):\n",
    "        file_path = os.path.join(folder_path, filename)\n",
    "        \n",
    "        # check if file is an image (ignore .DS_Store, etc. that may break the splitting function)\n",
    "        if filename.lower().endswith(('.png', '.jpg', '.jpeg', '.tiff', '.bmp', '.gif')):\n",
    "            split_image_vertically(file_path, output_folder)\n",
    "            print(f\"Processed and split image: {filename}\")"
   ]
  },
  {
   "cell_type": "markdown",
   "metadata": {},
   "source": [
    "## Testing"
   ]
  },
  {
   "cell_type": "code",
   "execution_count": 8,
   "metadata": {},
   "outputs": [
    {
     "name": "stdout",
     "output_type": "stream",
     "text": [
      "1650\n",
      "Processed and split image: Scan 17.jpeg\n",
      "1650\n",
      "Processed and split image: Scan 3.jpeg\n",
      "1650\n",
      "Processed and split image: Scan 21.jpeg\n",
      "1650\n",
      "Processed and split image: Scan 20.jpeg\n",
      "1650\n",
      "Processed and split image: Scan 2.jpeg\n",
      "1650\n",
      "Processed and split image: Scan 16.jpeg\n",
      "1650\n",
      "Processed and split image: Scan 31.jpeg\n",
      "1650\n",
      "Processed and split image: Scan 27.jpeg\n",
      "1650\n",
      "Processed and split image: Scan 9.jpeg\n",
      "1650\n",
      "Processed and split image: Scan 11.jpeg\n",
      "1650\n",
      "Processed and split image: Scan 5.jpeg\n",
      "1650\n",
      "Processed and split image: Scan 4.jpeg\n",
      "1650\n",
      "Processed and split image: Scan 10.jpeg\n",
      "1650\n",
      "Processed and split image: Scan 8.jpeg\n",
      "1650\n",
      "Processed and split image: Scan 26.jpeg\n",
      "1650\n",
      "Processed and split image: Scan 30.jpeg\n",
      "1650\n",
      "Processed and split image: Scan 25.jpeg\n",
      "1650\n",
      "Processed and split image: Scan 7.jpeg\n",
      "1650\n",
      "Processed and split image: Scan 29.jpeg\n",
      "1650\n",
      "Processed and split image: Scan.jpeg\n",
      "1650\n",
      "Processed and split image: Scan 13.jpeg\n",
      "1650\n",
      "Processed and split image: Scan 12.jpeg\n",
      "1650\n",
      "Processed and split image: Scan 28.jpeg\n",
      "1650\n",
      "Processed and split image: Scan 6.jpeg\n",
      "1650\n",
      "Processed and split image: Scan 24.jpeg\n",
      "1650\n",
      "Processed and split image: Scan 1.jpeg\n",
      "1650\n",
      "Processed and split image: Scan 15.jpeg\n",
      "1650\n",
      "Processed and split image: Scan 23.jpeg\n",
      "1650\n",
      "Processed and split image: Scan 19.jpeg\n",
      "1650\n",
      "Processed and split image: Scan 18.jpeg\n",
      "1650\n",
      "Processed and split image: Scan 22.jpeg\n",
      "1650\n",
      "Processed and split image: Scan 14.jpeg\n"
     ]
    }
   ],
   "source": [
    "input_folder = 'original_scans'\n",
    "output_folder = 'The Wacky Teens 10 - Money Trouble 3 (ATTEMPT 1)'\n",
    "process_images_in_folder(input_folder, output_folder)"
   ]
  }
 ],
 "metadata": {
  "kernelspec": {
   "display_name": "env2",
   "language": "python",
   "name": "python3"
  },
  "language_info": {
   "codemirror_mode": {
    "name": "ipython",
    "version": 3
   },
   "file_extension": ".py",
   "mimetype": "text/x-python",
   "name": "python",
   "nbconvert_exporter": "python",
   "pygments_lexer": "ipython3",
   "version": "3.10.14"
  }
 },
 "nbformat": 4,
 "nbformat_minor": 2
}
