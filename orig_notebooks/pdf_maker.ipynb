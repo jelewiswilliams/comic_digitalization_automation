{
 "cells": [
  {
   "cell_type": "code",
   "execution_count": null,
   "metadata": {},
   "outputs": [],
   "source": [
    "import os\n",
    "import re\n",
    "from PIL import Image\n",
    "from pathlib import Path"
   ]
  },
  {
   "cell_type": "code",
   "execution_count": null,
   "metadata": {},
   "outputs": [],
   "source": [
    "# for properly sorting image files with numeric filenames\n",
    "# via https://stackoverflow.com/questions/2669059/how-to-sort-alpha-numeric-set-in-python\n",
    "def sorted_nicely(list):\n",
    "    convert = lambda text: int(text) if text.isdigit() else text.lower()\n",
    "    alphanum_key = lambda key: [convert(c) for c in re.split('([0-9]+)', key)]\n",
    "    return sorted(list, key=alphanum_key)"
   ]
  },
  {
   "cell_type": "markdown",
   "metadata": {},
   "source": [
    "## Main function"
   ]
  },
  {
   "cell_type": "code",
   "execution_count": null,
   "metadata": {},
   "outputs": [],
   "source": [
    "def images_to_pdf(input_folder, output_pdf_path) -> None:\n",
    "    \"\"\"\n",
    "    Takes a list of image files in a folder and consolidates them into a PDF.\n",
    "    Assumes file names are numerical and in order.\n",
    "    \"\"\"\n",
    "    \n",
    "    # list of all images files in the folder (ignores other items, such as \".DS_Store\" files)\n",
    "    image_files = [f for f in os.listdir(input_folder) if f.lower().endswith(('.png', '.jpg', '.jpeg', '.tiff', '.bmp', '.gif'))]\n",
    "\n",
    "    # sort files to ensure correct order\n",
    "    image_files = sorted_nicely(image_files)\n",
    "    \n",
    "    # list to hold all images\n",
    "    images = []\n",
    "    \n",
    "    # open each image and append it to the list as a PIL image\n",
    "    for filename in image_files:\n",
    "        file_path = os.path.join(input_folder, filename)\n",
    "        img = Image.open(file_path)\n",
    "        img = img.convert('RGB')  # Ensure all images are in RGB mode\n",
    "        images.append(img)\n",
    "    \n",
    "    # consolidates all images as a single PDF file\n",
    "    if images:\n",
    "        images[0].save(output_pdf_path, save_all=True, append_images=images[1:])\n",
    "        print(f\"PDF created successfully: {output_pdf_path}\")\n",
    "    else:\n",
    "        print(\"No images found in the folder.\")"
   ]
  },
  {
   "cell_type": "markdown",
   "metadata": {},
   "source": [
    "## Testing"
   ]
  },
  {
   "cell_type": "code",
   "execution_count": null,
   "metadata": {},
   "outputs": [],
   "source": [
    "path = \"../PDF Maker\"\n",
    "for filename in os.listdir(path):\n",
    "    input_folder = os.path.join(path, filename)\n",
    "    if Path(input_folder).is_dir():\n",
    "        output_name = str(filename) + \".pdf\"\n",
    "        output_pdf_path = output_name\n",
    "        images_to_pdf(input_folder, output_pdf_path)"
   ]
  }
 ],
 "metadata": {
  "kernelspec": {
   "display_name": "env2",
   "language": "python",
   "name": "python3"
  },
  "language_info": {
   "codemirror_mode": {
    "name": "ipython",
    "version": 3
   },
   "file_extension": ".py",
   "mimetype": "text/x-python",
   "name": "python",
   "nbconvert_exporter": "python",
   "pygments_lexer": "ipython3",
   "version": "3.10.14"
  }
 },
 "nbformat": 4,
 "nbformat_minor": 2
}
